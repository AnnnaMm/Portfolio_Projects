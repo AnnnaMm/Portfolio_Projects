{
 "cells": [
  {
   "cell_type": "code",
   "execution_count": 1,
   "metadata": {},
   "outputs": [],
   "source": [
    "import pandas as pd\n",
    "import statsmodels.api as sm\n",
    "import matplotlib.pyplot as plt\n",
    "import numpy as np"
   ]
  },
  {
   "cell_type": "code",
   "execution_count": 3,
   "metadata": {},
   "outputs": [
    {
     "data": {
      "text/plain": [
       "20808"
      ]
     },
     "execution_count": 3,
     "metadata": {},
     "output_type": "execute_result"
    }
   ],
   "source": [
    "df = pd.read_csv('../Datasets/Price_During_Credit(08.2023-03.2024)/Ready_to_use/domy_credyt_all.csv') \n",
    "df_copy = df.copy()\n",
    "df_copy.head()\n",
    "len(df_copy)"
   ]
  },
  {
   "cell_type": "code",
   "execution_count": 4,
   "metadata": {},
   "outputs": [
    {
     "data": {
      "text/plain": [
       "320000.0"
      ]
     },
     "execution_count": 4,
     "metadata": {},
     "output_type": "execute_result"
    }
   ],
   "source": [
    "df_copy[df_copy['okres'] == 'sierpien_2023']['poznan_wlasnosc_prywatna'].min()"
   ]
  },
  {
   "cell_type": "code",
   "execution_count": 5,
   "metadata": {},
   "outputs": [
    {
     "data": {
      "text/plain": [
       "302000.0"
      ]
     },
     "execution_count": 5,
     "metadata": {},
     "output_type": "execute_result"
    }
   ],
   "source": [
    "df_copy[df_copy['okres'] == 'sierpien_2023']['poznan_spółdzielnia'].min()"
   ]
  },
  {
   "cell_type": "code",
   "execution_count": 6,
   "metadata": {},
   "outputs": [
    {
     "data": {
      "text/plain": [
       "Index(['rodzaj_zabudowy', 'metry_kwadratowe', 'stan_mieszkania', 'okres',\n",
       "       'bialystok_wlasnosc_prywatna', 'bialystok_spółdzielnia',\n",
       "       'bydgoszcz_wlasnosc_prywatna', 'bydgoszcz_spółdzielnia',\n",
       "       'czestochowa_spółdzielnia', 'czestochowa_wlasnosc_prywatna',\n",
       "       'gdansk_wlasnosc_prywatna', 'gdansk_spółdzielnia',\n",
       "       'gdynia_wlasnosc_prywatna', 'gdynia_spółdzielnia',\n",
       "       'katowice_wlasnosc_prywatna', 'katowice_spółdzielnia',\n",
       "       'krakow_wlasnosc_prywatna', 'krakow_spółdzielnia',\n",
       "       'lodz_wlasnosc_prywatna', 'lodz_spółdzielnia',\n",
       "       'lublin_wlasnosc_prywatna', 'lublin_spółdzielnia',\n",
       "       'poznan_wlasnosc_prywatna', 'poznan_spółdzielnia',\n",
       "       'radom_wlasnosc_prywatna', 'radom_spółdzielnia',\n",
       "       'rzeszow_wlasnosc_prywatna', 'rzeszow_spółdzielnia',\n",
       "       'szczecin_wlasnosc_prywatna', 'szczecin_spółdzielnia',\n",
       "       'warszawa_wlasnosc_prywatna', 'warszawa_spółdzielnia',\n",
       "       'wroclaw_wlasnosc_prywatna', 'wroclaw_spółdzielnia', 'krakow_udział',\n",
       "       'radom_udział'],\n",
       "      dtype='object')"
      ]
     },
     "execution_count": 6,
     "metadata": {},
     "output_type": "execute_result"
    }
   ],
   "source": [
    "df_copy.columns"
   ]
  },
  {
   "cell_type": "code",
   "execution_count": 5,
   "metadata": {},
   "outputs": [
    {
     "name": "stdout",
     "output_type": "stream",
     "text": [
      "sierpien_2023\n",
      "wrzesien_2023\n",
      "pazdziernik_2023\n",
      "listopad_2023\n",
      "grudzien_2023\n",
      "styczen_2024\n",
      "luty_2024\n",
      "marzec_2024\n",
      "kwiecien_2024\n"
     ]
    },
    {
     "data": {
      "text/plain": [
       "20808"
      ]
     },
     "execution_count": 5,
     "metadata": {},
     "output_type": "execute_result"
    }
   ],
   "source": [
    "mnth = df_copy['okres'].drop_duplicates()\n",
    "for value3 in mnth:\n",
    "    print(value3)"
   ]
  },
  {
   "cell_type": "code",
   "execution_count": null,
   "metadata": {},
   "outputs": [
    {
     "data": {
      "text/plain": [
       "20808"
      ]
     },
     "execution_count": 6,
     "metadata": {},
     "output_type": "execute_result"
    }
   ],
   "source": [
    "domy_all_wybrane_kolumny_wp = df_copy[['rodzaj_zabudowy','metry_kwadratowe', 'stan_mieszkania','okres', 'gdansk_wlasnosc_prywatna','krakow_wlasnosc_prywatna','poznan_wlasnosc_prywatna','warszawa_wlasnosc_prywatna','wroclaw_wlasnosc_prywatna']]\n",
    "domy_all_wybrane_kolumny_wp.head()"
   ]
  },
  {
   "cell_type": "code",
   "execution_count": 9,
   "metadata": {},
   "outputs": [
    {
     "data": {
      "text/html": [
       "<div>\n",
       "<style scoped>\n",
       "    .dataframe tbody tr th:only-of-type {\n",
       "        vertical-align: middle;\n",
       "    }\n",
       "\n",
       "    .dataframe tbody tr th {\n",
       "        vertical-align: top;\n",
       "    }\n",
       "\n",
       "    .dataframe thead th {\n",
       "        text-align: right;\n",
       "    }\n",
       "</style>\n",
       "<table border=\"1\" class=\"dataframe\">\n",
       "  <thead>\n",
       "    <tr style=\"text-align: right;\">\n",
       "      <th></th>\n",
       "      <th>rodzaj_zabudowy</th>\n",
       "      <th>metry_kwadratowe</th>\n",
       "      <th>stan_mieszkania</th>\n",
       "      <th>okres</th>\n",
       "      <th>gdansk_spółdzielnia</th>\n",
       "      <th>krakow_spółdzielnia</th>\n",
       "      <th>poznan_spółdzielnia</th>\n",
       "      <th>warszawa_spółdzielnia</th>\n",
       "      <th>wroclaw_spółdzielnia</th>\n",
       "    </tr>\n",
       "  </thead>\n",
       "  <tbody>\n",
       "    <tr>\n",
       "      <th>0</th>\n",
       "      <td>apartamentowiec</td>\n",
       "      <td>41.62</td>\n",
       "      <td>wysoki_poziom_jakosci</td>\n",
       "      <td>sierpien_2023</td>\n",
       "      <td>NaN</td>\n",
       "      <td>NaN</td>\n",
       "      <td>NaN</td>\n",
       "      <td>NaN</td>\n",
       "      <td>NaN</td>\n",
       "    </tr>\n",
       "    <tr>\n",
       "      <th>1</th>\n",
       "      <td>apartamentowiec</td>\n",
       "      <td>49.63</td>\n",
       "      <td>wysoki_poziom_jakosci</td>\n",
       "      <td>sierpien_2023</td>\n",
       "      <td>NaN</td>\n",
       "      <td>NaN</td>\n",
       "      <td>NaN</td>\n",
       "      <td>NaN</td>\n",
       "      <td>NaN</td>\n",
       "    </tr>\n",
       "    <tr>\n",
       "      <th>2</th>\n",
       "      <td>apartamentowiec</td>\n",
       "      <td>50.00</td>\n",
       "      <td>wysoki_poziom_jakosci</td>\n",
       "      <td>sierpien_2023</td>\n",
       "      <td>NaN</td>\n",
       "      <td>NaN</td>\n",
       "      <td>NaN</td>\n",
       "      <td>NaN</td>\n",
       "      <td>NaN</td>\n",
       "    </tr>\n",
       "    <tr>\n",
       "      <th>3</th>\n",
       "      <td>apartamentowiec</td>\n",
       "      <td>61.50</td>\n",
       "      <td>wysoki_poziom_jakosci</td>\n",
       "      <td>sierpien_2023</td>\n",
       "      <td>NaN</td>\n",
       "      <td>NaN</td>\n",
       "      <td>NaN</td>\n",
       "      <td>NaN</td>\n",
       "      <td>NaN</td>\n",
       "    </tr>\n",
       "    <tr>\n",
       "      <th>4</th>\n",
       "      <td>apartamentowiec</td>\n",
       "      <td>64.64</td>\n",
       "      <td>wysoki_poziom_jakosci</td>\n",
       "      <td>sierpien_2023</td>\n",
       "      <td>NaN</td>\n",
       "      <td>NaN</td>\n",
       "      <td>NaN</td>\n",
       "      <td>NaN</td>\n",
       "      <td>NaN</td>\n",
       "    </tr>\n",
       "  </tbody>\n",
       "</table>\n",
       "</div>"
      ],
      "text/plain": [
       "   rodzaj_zabudowy  metry_kwadratowe        stan_mieszkania          okres  \\\n",
       "0  apartamentowiec             41.62  wysoki_poziom_jakosci  sierpien_2023   \n",
       "1  apartamentowiec             49.63  wysoki_poziom_jakosci  sierpien_2023   \n",
       "2  apartamentowiec             50.00  wysoki_poziom_jakosci  sierpien_2023   \n",
       "3  apartamentowiec             61.50  wysoki_poziom_jakosci  sierpien_2023   \n",
       "4  apartamentowiec             64.64  wysoki_poziom_jakosci  sierpien_2023   \n",
       "\n",
       "   gdansk_spółdzielnia  krakow_spółdzielnia  poznan_spółdzielnia  \\\n",
       "0                  NaN                  NaN                  NaN   \n",
       "1                  NaN                  NaN                  NaN   \n",
       "2                  NaN                  NaN                  NaN   \n",
       "3                  NaN                  NaN                  NaN   \n",
       "4                  NaN                  NaN                  NaN   \n",
       "\n",
       "   warszawa_spółdzielnia  wroclaw_spółdzielnia  \n",
       "0                    NaN                   NaN  \n",
       "1                    NaN                   NaN  \n",
       "2                    NaN                   NaN  \n",
       "3                    NaN                   NaN  \n",
       "4                    NaN                   NaN  "
      ]
     },
     "execution_count": 9,
     "metadata": {},
     "output_type": "execute_result"
    }
   ],
   "source": [
    "domy_all_wybrane_kolumny_ws = df_copy[['rodzaj_zabudowy','metry_kwadratowe', 'stan_mieszkania','okres', 'gdansk_spółdzielnia','krakow_spółdzielnia','poznan_spółdzielnia','warszawa_spółdzielnia','wroclaw_spółdzielnia']]\n",
    "domy_all_wybrane_kolumny_ws.head()"
   ]
  },
  {
   "cell_type": "code",
   "execution_count": 10,
   "metadata": {},
   "outputs": [],
   "source": [
    "def srednia(x_cena,y_metry):  \n",
    "    z_srednia = x_cena/y_metry\n",
    "    return round(z_srednia,3)\n",
    "    "
   ]
  },
  {
   "cell_type": "code",
   "execution_count": 11,
   "metadata": {},
   "outputs": [],
   "source": [
    "def srednia_2(okres_m,miasto_w):\n",
    "    return round(df_copy[df_copy['okres'] == 'sierpien_2023'][miasto_w].mean() / df_copy[df_copy['okres'] == 'sierpien_2023']['metry_kwadratowe'].mean(),3)"
   ]
  },
  {
   "cell_type": "code",
   "execution_count": 12,
   "metadata": {},
   "outputs": [],
   "source": [
    "def srednia_3(miasto_w):\n",
    "    return round(df_copy[df_copy['okres'] == 'sierpien_2023'][miasto_w].mean() / df_copy[df_copy['okres'] == 'sierpien_2023']['metry_kwadratowe'].mean(),3), round(df_copy[df_copy['okres'] == 'wrzesien_2023'][miasto_w].mean() / df_copy[df_copy['okres'] == 'wrzesien_2023']['metry_kwadratowe'].mean(),3),round(df_copy[df_copy['okres'] == 'pazdziernik_2023'][miasto_w].mean() / df_copy[df_copy['okres'] == 'pazdziernik_2023']['metry_kwadratowe'].mean(),3),round(df_copy[df_copy['okres'] == 'listopad_2023'][miasto_w].mean() / df_copy[df_copy['okres'] == 'listopad_2023']['metry_kwadratowe'].mean(),3),round(df_copy[df_copy['okres'] == 'grudzien_2023'][miasto_w].mean() / df_copy[df_copy['okres'] == 'grudzien_2023']['metry_kwadratowe'].mean(),3), round(df_copy[df_copy['okres'] == 'styczen_2024'][miasto_w].mean() / df_copy[df_copy['okres'] == 'styczen_2024']['metry_kwadratowe'].mean(),3), round(df_copy[df_copy['okres'] == 'luty_2024'][miasto_w].mean() / df_copy[df_copy['okres'] == 'luty_2024']['metry_kwadratowe'].mean(),3),round(df_copy[df_copy['okres'] == 'marzec_2024'][miasto_w].mean() / df_copy[df_copy['okres'] == 'marzec_2024']['metry_kwadratowe'].mean(),3),round(df_copy[df_copy['okres'] == 'kwiecien_2024'][miasto_w].mean() / df_copy[df_copy['okres'] == 'kwiecien_2024']['metry_kwadratowe'].mean(),3)"
   ]
  },
  {
   "cell_type": "code",
   "execution_count": 13,
   "metadata": {},
   "outputs": [],
   "source": [
    "def mediana(miasto_w):\n",
    "    return round(df_copy[df_copy['okres'] == 'sierpien_2023'][miasto_w].median() / df_copy[df_copy['okres'] == 'sierpien_2023']['metry_kwadratowe'].median(),3), round(df_copy[df_copy['okres'] == 'wrzesien_2023'][miasto_w].median() / df_copy[df_copy['okres'] == 'wrzesien_2023']['metry_kwadratowe'].median(),3),round(df_copy[df_copy['okres'] == 'pazdziernik_2023'][miasto_w].median() / df_copy[df_copy['okres'] == 'pazdziernik_2023']['metry_kwadratowe'].median(),3),round(df_copy[df_copy['okres'] == 'listopad_2023'][miasto_w].median() / df_copy[df_copy['okres'] == 'listopad_2023']['metry_kwadratowe'].median(),3),round(df_copy[df_copy['okres'] == 'grudzien_2023'][miasto_w].median() / df_copy[df_copy['okres'] == 'grudzien_2023']['metry_kwadratowe'].median(),3),round(df_copy[df_copy['okres'] == 'styczen_2024'][miasto_w].median() / df_copy[df_copy['okres'] == 'styczen_2024']['metry_kwadratowe'].median(),3),round(df_copy[df_copy['okres'] == 'luty_2024'][miasto_w].median() / df_copy[df_copy['okres'] == 'luty_2024']['metry_kwadratowe'].median(),3),round(df_copy[df_copy['okres'] == 'marzec_2024'][miasto_w].median() / df_copy[df_copy['okres'] == 'marzec_2024']['metry_kwadratowe'].median(),3),round(df_copy[df_copy['okres'] == 'kwiecien_2024'][miasto_w].median() / df_copy[df_copy['okres'] == 'kwiecien_2024']['metry_kwadratowe'].median(),3)"
   ]
  },
  {
   "cell_type": "markdown",
   "metadata": {},
   "source": [
    "warszawa"
   ]
  },
  {
   "cell_type": "code",
   "execution_count": 14,
   "metadata": {},
   "outputs": [
    {
     "data": {
      "text/plain": [
       "(16267.932,\n",
       " 16778.608,\n",
       " 16869.399,\n",
       " 17078.032,\n",
       " 17766.933,\n",
       " 17712.896,\n",
       " 18276.23,\n",
       " 18560.05,\n",
       " 18696.75)"
      ]
     },
     "execution_count": 14,
     "metadata": {},
     "output_type": "execute_result"
    }
   ],
   "source": [
    "srednia_3('warszawa_wlasnosc_prywatna')"
   ]
  },
  {
   "cell_type": "code",
   "execution_count": 15,
   "metadata": {},
   "outputs": [
    {
     "data": {
      "text/plain": [
       "(13851.829,\n",
       " 13688.285,\n",
       " 14206.543,\n",
       " 14344.732,\n",
       " 15272.848,\n",
       " 15867.531,\n",
       " 15720.045,\n",
       " 15770.281,\n",
       " 16146.251)"
      ]
     },
     "execution_count": 15,
     "metadata": {},
     "output_type": "execute_result"
    }
   ],
   "source": [
    "srednia_3('warszawa_spółdzielnia')"
   ]
  },
  {
   "cell_type": "code",
   "execution_count": 16,
   "metadata": {},
   "outputs": [
    {
     "data": {
      "text/plain": [
       "(15408.723,\n",
       " 15599.306,\n",
       " 15920.75,\n",
       " 16322.949,\n",
       " 16853.448,\n",
       " 16955.403,\n",
       " 17264.613,\n",
       " 17579.327,\n",
       " 17749.571)"
      ]
     },
     "execution_count": 16,
     "metadata": {},
     "output_type": "execute_result"
    }
   ],
   "source": [
    "mediana('warszawa_wlasnosc_prywatna')"
   ]
  },
  {
   "cell_type": "code",
   "execution_count": 17,
   "metadata": {},
   "outputs": [
    {
     "data": {
      "text/plain": [
       "(12710.003,\n",
       " 12571.552,\n",
       " 13237.809,\n",
       " 13207.547,\n",
       " 13920.69,\n",
       " 13975.129,\n",
       " 14721.153,\n",
       " 14415.048,\n",
       " 14778.981)"
      ]
     },
     "execution_count": 17,
     "metadata": {},
     "output_type": "execute_result"
    }
   ],
   "source": [
    "mediana('warszawa_spółdzielnia')"
   ]
  },
  {
   "cell_type": "markdown",
   "metadata": {},
   "source": [
    "gdańsk"
   ]
  },
  {
   "cell_type": "code",
   "execution_count": 18,
   "metadata": {},
   "outputs": [
    {
     "data": {
      "text/plain": [
       "(12013.558,\n",
       " 12597.835,\n",
       " 12760.393,\n",
       " 12777.29,\n",
       " 13766.937,\n",
       " 14874.931,\n",
       " 14459.392,\n",
       " 14623.905,\n",
       " 14364.53)"
      ]
     },
     "execution_count": 18,
     "metadata": {},
     "output_type": "execute_result"
    }
   ],
   "source": [
    "srednia_3('gdansk_wlasnosc_prywatna')"
   ]
  },
  {
   "cell_type": "code",
   "execution_count": 19,
   "metadata": {},
   "outputs": [
    {
     "data": {
      "text/plain": [
       "(10443.622,\n",
       " 9831.617,\n",
       " 10253.736,\n",
       " 11182.674,\n",
       " 9999.749,\n",
       " 11337.21,\n",
       " 11066.121,\n",
       " 11683.675,\n",
       " 11412.847)"
      ]
     },
     "execution_count": 19,
     "metadata": {},
     "output_type": "execute_result"
    }
   ],
   "source": [
    "srednia_3('gdansk_spółdzielnia')"
   ]
  },
  {
   "cell_type": "code",
   "execution_count": 20,
   "metadata": {},
   "outputs": [
    {
     "data": {
      "text/plain": [
       "(12674.04,\n",
       " 12679.965,\n",
       " 12550.858,\n",
       " 12523.036,\n",
       " 12741.379,\n",
       " 15000.0,\n",
       " 14731.362,\n",
       " 14344.731,\n",
       " 14184.271)"
      ]
     },
     "execution_count": 20,
     "metadata": {},
     "output_type": "execute_result"
    }
   ],
   "source": [
    "mediana('gdansk_wlasnosc_prywatna')"
   ]
  },
  {
   "cell_type": "code",
   "execution_count": 21,
   "metadata": {},
   "outputs": [
    {
     "data": {
      "text/plain": [
       "(11264.908,\n",
       " 10320.902,\n",
       " 11126.835,\n",
       " 12189.557,\n",
       " 10327.586,\n",
       " 11989.708,\n",
       " 11716.836,\n",
       " 11250.769,\n",
       " 11681.165)"
      ]
     },
     "execution_count": 21,
     "metadata": {},
     "output_type": "execute_result"
    }
   ],
   "source": [
    "mediana('gdansk_spółdzielnia')"
   ]
  },
  {
   "cell_type": "markdown",
   "metadata": {},
   "source": [
    "kraków"
   ]
  },
  {
   "cell_type": "code",
   "execution_count": 22,
   "metadata": {},
   "outputs": [
    {
     "data": {
      "text/plain": [
       "(13127.499,\n",
       " 13669.347,\n",
       " 14211.421,\n",
       " 14369.908,\n",
       " 15601.34,\n",
       " 16013.912,\n",
       " 15983.066,\n",
       " 16484.852,\n",
       " 16807.13)"
      ]
     },
     "execution_count": 22,
     "metadata": {},
     "output_type": "execute_result"
    }
   ],
   "source": [
    "srednia_3('krakow_wlasnosc_prywatna')"
   ]
  },
  {
   "cell_type": "code",
   "execution_count": 23,
   "metadata": {},
   "outputs": [
    {
     "data": {
      "text/plain": [
       "(9657.329,\n",
       " 9926.165,\n",
       " 11032.518,\n",
       " 11621.132,\n",
       " 11745.346,\n",
       " 11036.934,\n",
       " 11079.565,\n",
       " 11944.973,\n",
       " 12382.742)"
      ]
     },
     "execution_count": 23,
     "metadata": {},
     "output_type": "execute_result"
    }
   ],
   "source": [
    "srednia_3('krakow_spółdzielnia')"
   ]
  },
  {
   "cell_type": "code",
   "execution_count": 24,
   "metadata": {},
   "outputs": [
    {
     "data": {
      "text/plain": [
       "(12866.719,\n",
       " 13616.652,\n",
       " 14249.071,\n",
       " 14616.033,\n",
       " 14637.931,\n",
       " 15180.103,\n",
       " 14858.243,\n",
       " 15381.911,\n",
       " 15409.196)"
      ]
     },
     "execution_count": 24,
     "metadata": {},
     "output_type": "execute_result"
    }
   ],
   "source": [
    "mediana('krakow_wlasnosc_prywatna')"
   ]
  },
  {
   "cell_type": "code",
   "execution_count": 25,
   "metadata": {},
   "outputs": [
    {
     "data": {
      "text/plain": [
       "(9523.81,\n",
       " 10355.594,\n",
       " 11657.527,\n",
       " 12268.539,\n",
       " 12112.069,\n",
       " 11286.449,\n",
       " 11550.578,\n",
       " 12129.735,\n",
       " 12422.333)"
      ]
     },
     "execution_count": 25,
     "metadata": {},
     "output_type": "execute_result"
    }
   ],
   "source": [
    "mediana('krakow_spółdzielnia')"
   ]
  },
  {
   "cell_type": "markdown",
   "metadata": {},
   "source": [
    "poznań"
   ]
  },
  {
   "cell_type": "code",
   "execution_count": 26,
   "metadata": {},
   "outputs": [
    {
     "data": {
      "text/plain": [
       "(10234.786,\n",
       " 10575.786,\n",
       " 10477.904,\n",
       " 10237.602,\n",
       " 11138.183,\n",
       " 11325.585,\n",
       " 11293.89,\n",
       " 11305.597,\n",
       " 11688.981)"
      ]
     },
     "execution_count": 26,
     "metadata": {},
     "output_type": "execute_result"
    }
   ],
   "source": [
    "srednia_3('poznan_wlasnosc_prywatna')"
   ]
  },
  {
   "cell_type": "code",
   "execution_count": 27,
   "metadata": {},
   "outputs": [
    {
     "data": {
      "text/plain": [
       "(8051.584,\n",
       " 8409.309,\n",
       " 8381.581,\n",
       " 8695.023,\n",
       " 8313.237,\n",
       " 8085.8,\n",
       " 8325.024,\n",
       " 8668.456,\n",
       " 8841.258)"
      ]
     },
     "execution_count": 27,
     "metadata": {},
     "output_type": "execute_result"
    }
   ],
   "source": [
    "srednia_3('poznan_spółdzielnia')"
   ]
  },
  {
   "cell_type": "code",
   "execution_count": 28,
   "metadata": {},
   "outputs": [
    {
     "data": {
      "text/plain": [
       "(10481.414,\n",
       " 11101.474,\n",
       " 10879.179,\n",
       " 10917.069,\n",
       " 11181.034,\n",
       " 11638.079,\n",
       " 11375.569,\n",
       " 11408.983,\n",
       " 11539.144)"
      ]
     },
     "execution_count": 28,
     "metadata": {},
     "output_type": "execute_result"
    }
   ],
   "source": [
    "mediana('poznan_wlasnosc_prywatna')"
   ]
  },
  {
   "cell_type": "code",
   "execution_count": 29,
   "metadata": {},
   "outputs": [
    {
     "data": {
      "text/plain": [
       "(8357.273,\n",
       " 8655.681,\n",
       " 8473.377,\n",
       " 9635.805,\n",
       " 8500.0,\n",
       " 7881.647,\n",
       " 8400.42,\n",
       " 8651.261,\n",
       " 9213.563)"
      ]
     },
     "execution_count": 29,
     "metadata": {},
     "output_type": "execute_result"
    }
   ],
   "source": [
    "mediana('poznan_spółdzielnia')"
   ]
  },
  {
   "cell_type": "markdown",
   "metadata": {},
   "source": [
    "wrocław"
   ]
  },
  {
   "cell_type": "code",
   "execution_count": 30,
   "metadata": {},
   "outputs": [
    {
     "data": {
      "text/plain": [
       "(10962.451,\n",
       " 11030.87,\n",
       " 11371.162,\n",
       " 11584.783,\n",
       " 12010.076,\n",
       " 12125.319,\n",
       " 12167.872,\n",
       " 12886.571,\n",
       " 13021.464)"
      ]
     },
     "execution_count": 30,
     "metadata": {},
     "output_type": "execute_result"
    }
   ],
   "source": [
    "srednia_3('wroclaw_wlasnosc_prywatna')"
   ]
  },
  {
   "cell_type": "code",
   "execution_count": 31,
   "metadata": {},
   "outputs": [
    {
     "data": {
      "text/plain": [
       "(9391.693,\n",
       " 8946.799,\n",
       " 9728.001,\n",
       " 10173.566,\n",
       " 10540.802,\n",
       " 9980.279,\n",
       " 9913.222,\n",
       " 10358.824,\n",
       " 10485.763)"
      ]
     },
     "execution_count": 31,
     "metadata": {},
     "output_type": "execute_result"
    }
   ],
   "source": [
    "srednia_3('wroclaw_spółdzielnia')"
   ]
  },
  {
   "cell_type": "code",
   "execution_count": 32,
   "metadata": {},
   "outputs": [
    {
     "data": {
      "text/plain": [
       "(11231.537,\n",
       " 11274.935,\n",
       " 11834.424,\n",
       " 12110.575,\n",
       " 12059.483,\n",
       " 12178.388,\n",
       " 12250.613,\n",
       " 13087.809,\n",
       " 13110.243)"
      ]
     },
     "execution_count": 32,
     "metadata": {},
     "output_type": "execute_result"
    }
   ],
   "source": [
    "mediana('wroclaw_wlasnosc_prywatna')"
   ]
  },
  {
   "cell_type": "code",
   "execution_count": 33,
   "metadata": {},
   "outputs": [
    {
     "data": {
      "text/plain": [
       "(10080.961,\n",
       " 9869.905,\n",
       " 10525.385,\n",
       " 10952.172,\n",
       " 11155.172,\n",
       " 10506.003,\n",
       " 10483.024,\n",
       " 10653.072,\n",
       " 11166.341)"
      ]
     },
     "execution_count": 33,
     "metadata": {},
     "output_type": "execute_result"
    }
   ],
   "source": [
    "mediana('wroclaw_spółdzielnia')"
   ]
  },
  {
   "cell_type": "markdown",
   "metadata": {},
   "source": []
  },
  {
   "cell_type": "code",
   "execution_count": 34,
   "metadata": {},
   "outputs": [
    {
     "data": {
      "text/html": [
       "<div>\n",
       "<style scoped>\n",
       "    .dataframe tbody tr th:only-of-type {\n",
       "        vertical-align: middle;\n",
       "    }\n",
       "\n",
       "    .dataframe tbody tr th {\n",
       "        vertical-align: top;\n",
       "    }\n",
       "\n",
       "    .dataframe thead th {\n",
       "        text-align: right;\n",
       "    }\n",
       "</style>\n",
       "<table border=\"1\" class=\"dataframe\">\n",
       "  <thead>\n",
       "    <tr style=\"text-align: right;\">\n",
       "      <th></th>\n",
       "      <th>okres</th>\n",
       "      <th>mediana_gdansk_wlasnosc_prywatna</th>\n",
       "      <th>mediana_krakow_wlasnosc_prywatna</th>\n",
       "      <th>mediana_poznan_wlasnosc_prywatna</th>\n",
       "      <th>mediana_warszawa_wlasnosc_prywatna</th>\n",
       "      <th>mediana_wroclaw_wlasnosc_prywatna</th>\n",
       "    </tr>\n",
       "  </thead>\n",
       "  <tbody>\n",
       "    <tr>\n",
       "      <th>0</th>\n",
       "      <td>sierpien_2023</td>\n",
       "      <td>12674.040</td>\n",
       "      <td>12866.719</td>\n",
       "      <td>10481.414</td>\n",
       "      <td>15408.723</td>\n",
       "      <td>11231.537</td>\n",
       "    </tr>\n",
       "    <tr>\n",
       "      <th>1</th>\n",
       "      <td>wrzesien_2023</td>\n",
       "      <td>12679.965</td>\n",
       "      <td>13616.652</td>\n",
       "      <td>11101.474</td>\n",
       "      <td>15599.306</td>\n",
       "      <td>11274.935</td>\n",
       "    </tr>\n",
       "    <tr>\n",
       "      <th>2</th>\n",
       "      <td>pazdziernik_2023</td>\n",
       "      <td>12550.858</td>\n",
       "      <td>14249.071</td>\n",
       "      <td>10879.179</td>\n",
       "      <td>15920.750</td>\n",
       "      <td>11834.424</td>\n",
       "    </tr>\n",
       "    <tr>\n",
       "      <th>3</th>\n",
       "      <td>listopad_2023</td>\n",
       "      <td>12523.036</td>\n",
       "      <td>14616.033</td>\n",
       "      <td>10917.069</td>\n",
       "      <td>16322.949</td>\n",
       "      <td>12110.575</td>\n",
       "    </tr>\n",
       "    <tr>\n",
       "      <th>4</th>\n",
       "      <td>grudzien_2023</td>\n",
       "      <td>12741.379</td>\n",
       "      <td>14637.931</td>\n",
       "      <td>11181.034</td>\n",
       "      <td>16853.448</td>\n",
       "      <td>12059.483</td>\n",
       "    </tr>\n",
       "    <tr>\n",
       "      <th>5</th>\n",
       "      <td>styczen_2024</td>\n",
       "      <td>15000.000</td>\n",
       "      <td>15180.103</td>\n",
       "      <td>11638.079</td>\n",
       "      <td>16955.403</td>\n",
       "      <td>12178.388</td>\n",
       "    </tr>\n",
       "    <tr>\n",
       "      <th>6</th>\n",
       "      <td>luty_2024</td>\n",
       "      <td>14731.362</td>\n",
       "      <td>14858.243</td>\n",
       "      <td>11375.569</td>\n",
       "      <td>17264.613</td>\n",
       "      <td>12250.613</td>\n",
       "    </tr>\n",
       "    <tr>\n",
       "      <th>7</th>\n",
       "      <td>marzec_2024</td>\n",
       "      <td>14344.731</td>\n",
       "      <td>15381.911</td>\n",
       "      <td>11408.983</td>\n",
       "      <td>17579.327</td>\n",
       "      <td>13087.809</td>\n",
       "    </tr>\n",
       "    <tr>\n",
       "      <th>8</th>\n",
       "      <td>kwiecien_2024</td>\n",
       "      <td>14184.271</td>\n",
       "      <td>15409.196</td>\n",
       "      <td>11539.144</td>\n",
       "      <td>17749.571</td>\n",
       "      <td>13110.243</td>\n",
       "    </tr>\n",
       "  </tbody>\n",
       "</table>\n",
       "</div>"
      ],
      "text/plain": [
       "              okres  mediana_gdansk_wlasnosc_prywatna  \\\n",
       "0     sierpien_2023                         12674.040   \n",
       "1     wrzesien_2023                         12679.965   \n",
       "2  pazdziernik_2023                         12550.858   \n",
       "3     listopad_2023                         12523.036   \n",
       "4     grudzien_2023                         12741.379   \n",
       "5      styczen_2024                         15000.000   \n",
       "6         luty_2024                         14731.362   \n",
       "7       marzec_2024                         14344.731   \n",
       "8     kwiecien_2024                         14184.271   \n",
       "\n",
       "   mediana_krakow_wlasnosc_prywatna  mediana_poznan_wlasnosc_prywatna  \\\n",
       "0                         12866.719                         10481.414   \n",
       "1                         13616.652                         11101.474   \n",
       "2                         14249.071                         10879.179   \n",
       "3                         14616.033                         10917.069   \n",
       "4                         14637.931                         11181.034   \n",
       "5                         15180.103                         11638.079   \n",
       "6                         14858.243                         11375.569   \n",
       "7                         15381.911                         11408.983   \n",
       "8                         15409.196                         11539.144   \n",
       "\n",
       "   mediana_warszawa_wlasnosc_prywatna  mediana_wroclaw_wlasnosc_prywatna  \n",
       "0                           15408.723                          11231.537  \n",
       "1                           15599.306                          11274.935  \n",
       "2                           15920.750                          11834.424  \n",
       "3                           16322.949                          12110.575  \n",
       "4                           16853.448                          12059.483  \n",
       "5                           16955.403                          12178.388  \n",
       "6                           17264.613                          12250.613  \n",
       "7                           17579.327                          13087.809  \n",
       "8                           17749.571                          13110.243  "
      ]
     },
     "execution_count": 34,
     "metadata": {},
     "output_type": "execute_result"
    }
   ],
   "source": [
    "mediana_df = pd.DataFrame()\n",
    "mediana_df['okres'] = ['sierpien_2023', 'wrzesien_2023', 'pazdziernik_2023', 'listopad_2023', 'grudzien_2023', \n",
    "              'styczen_2024', 'luty_2024', 'marzec_2024', 'kwiecien_2024']\n",
    "\n",
    "mediana_df['mediana_gdansk_wlasnosc_prywatna'] = mediana('gdansk_wlasnosc_prywatna')\n",
    "mediana_df['mediana_krakow_wlasnosc_prywatna'] = mediana('krakow_wlasnosc_prywatna')\n",
    "mediana_df['mediana_poznan_wlasnosc_prywatna'] = mediana('poznan_wlasnosc_prywatna')\n",
    "mediana_df['mediana_warszawa_wlasnosc_prywatna'] = mediana('warszawa_wlasnosc_prywatna')\n",
    "mediana_df['mediana_wroclaw_wlasnosc_prywatna'] = mediana('wroclaw_wlasnosc_prywatna')\n",
    "\n",
    "mediana_df.head(10000)\n",
    "\n"
   ]
  },
  {
   "cell_type": "code",
   "execution_count": 35,
   "metadata": {},
   "outputs": [
    {
     "data": {
      "text/html": [
       "<div>\n",
       "<style scoped>\n",
       "    .dataframe tbody tr th:only-of-type {\n",
       "        vertical-align: middle;\n",
       "    }\n",
       "\n",
       "    .dataframe tbody tr th {\n",
       "        vertical-align: top;\n",
       "    }\n",
       "\n",
       "    .dataframe thead th {\n",
       "        text-align: right;\n",
       "    }\n",
       "</style>\n",
       "<table border=\"1\" class=\"dataframe\">\n",
       "  <thead>\n",
       "    <tr style=\"text-align: right;\">\n",
       "      <th></th>\n",
       "      <th>okres</th>\n",
       "      <th>srednia_gdansk_wlasnosc_prywatna</th>\n",
       "      <th>srednia_krakow_wlasnosc_prywatna</th>\n",
       "      <th>srednia_poznan_wlasnosc_prywatna</th>\n",
       "      <th>srednia_warszawa_wlasnosc_prywatna</th>\n",
       "      <th>srednia_wroclaw_wlasnosc_prywatna</th>\n",
       "    </tr>\n",
       "  </thead>\n",
       "  <tbody>\n",
       "    <tr>\n",
       "      <th>0</th>\n",
       "      <td>sierpien_2023</td>\n",
       "      <td>12013.558</td>\n",
       "      <td>13127.499</td>\n",
       "      <td>10234.786</td>\n",
       "      <td>16267.932</td>\n",
       "      <td>10962.451</td>\n",
       "    </tr>\n",
       "    <tr>\n",
       "      <th>1</th>\n",
       "      <td>wrzesien_2023</td>\n",
       "      <td>12597.835</td>\n",
       "      <td>13669.347</td>\n",
       "      <td>10575.786</td>\n",
       "      <td>16778.608</td>\n",
       "      <td>11030.870</td>\n",
       "    </tr>\n",
       "    <tr>\n",
       "      <th>2</th>\n",
       "      <td>pazdziernik_2023</td>\n",
       "      <td>12760.393</td>\n",
       "      <td>14211.421</td>\n",
       "      <td>10477.904</td>\n",
       "      <td>16869.399</td>\n",
       "      <td>11371.162</td>\n",
       "    </tr>\n",
       "    <tr>\n",
       "      <th>3</th>\n",
       "      <td>listopad_2023</td>\n",
       "      <td>12777.290</td>\n",
       "      <td>14369.908</td>\n",
       "      <td>10237.602</td>\n",
       "      <td>17078.032</td>\n",
       "      <td>11584.783</td>\n",
       "    </tr>\n",
       "    <tr>\n",
       "      <th>4</th>\n",
       "      <td>grudzien_2023</td>\n",
       "      <td>13766.937</td>\n",
       "      <td>15601.340</td>\n",
       "      <td>11138.183</td>\n",
       "      <td>17766.933</td>\n",
       "      <td>12010.076</td>\n",
       "    </tr>\n",
       "    <tr>\n",
       "      <th>5</th>\n",
       "      <td>styczen_2024</td>\n",
       "      <td>14874.931</td>\n",
       "      <td>16013.912</td>\n",
       "      <td>11325.585</td>\n",
       "      <td>17712.896</td>\n",
       "      <td>12125.319</td>\n",
       "    </tr>\n",
       "    <tr>\n",
       "      <th>6</th>\n",
       "      <td>luty_2024</td>\n",
       "      <td>14459.392</td>\n",
       "      <td>15983.066</td>\n",
       "      <td>11293.890</td>\n",
       "      <td>18276.230</td>\n",
       "      <td>12167.872</td>\n",
       "    </tr>\n",
       "    <tr>\n",
       "      <th>7</th>\n",
       "      <td>marzec_2024</td>\n",
       "      <td>14623.905</td>\n",
       "      <td>16484.852</td>\n",
       "      <td>11305.597</td>\n",
       "      <td>18560.050</td>\n",
       "      <td>12886.571</td>\n",
       "    </tr>\n",
       "    <tr>\n",
       "      <th>8</th>\n",
       "      <td>kwiecien_2024</td>\n",
       "      <td>14364.530</td>\n",
       "      <td>16807.130</td>\n",
       "      <td>11688.981</td>\n",
       "      <td>18696.750</td>\n",
       "      <td>13021.464</td>\n",
       "    </tr>\n",
       "  </tbody>\n",
       "</table>\n",
       "</div>"
      ],
      "text/plain": [
       "              okres  srednia_gdansk_wlasnosc_prywatna  \\\n",
       "0     sierpien_2023                         12013.558   \n",
       "1     wrzesien_2023                         12597.835   \n",
       "2  pazdziernik_2023                         12760.393   \n",
       "3     listopad_2023                         12777.290   \n",
       "4     grudzien_2023                         13766.937   \n",
       "5      styczen_2024                         14874.931   \n",
       "6         luty_2024                         14459.392   \n",
       "7       marzec_2024                         14623.905   \n",
       "8     kwiecien_2024                         14364.530   \n",
       "\n",
       "   srednia_krakow_wlasnosc_prywatna  srednia_poznan_wlasnosc_prywatna  \\\n",
       "0                         13127.499                         10234.786   \n",
       "1                         13669.347                         10575.786   \n",
       "2                         14211.421                         10477.904   \n",
       "3                         14369.908                         10237.602   \n",
       "4                         15601.340                         11138.183   \n",
       "5                         16013.912                         11325.585   \n",
       "6                         15983.066                         11293.890   \n",
       "7                         16484.852                         11305.597   \n",
       "8                         16807.130                         11688.981   \n",
       "\n",
       "   srednia_warszawa_wlasnosc_prywatna  srednia_wroclaw_wlasnosc_prywatna  \n",
       "0                           16267.932                          10962.451  \n",
       "1                           16778.608                          11030.870  \n",
       "2                           16869.399                          11371.162  \n",
       "3                           17078.032                          11584.783  \n",
       "4                           17766.933                          12010.076  \n",
       "5                           17712.896                          12125.319  \n",
       "6                           18276.230                          12167.872  \n",
       "7                           18560.050                          12886.571  \n",
       "8                           18696.750                          13021.464  "
      ]
     },
     "execution_count": 35,
     "metadata": {},
     "output_type": "execute_result"
    }
   ],
   "source": [
    "srednia_3\n",
    "srednia_df = pd.DataFrame()\n",
    "srednia_df['okres'] = ['sierpien_2023', 'wrzesien_2023', 'pazdziernik_2023', 'listopad_2023', 'grudzien_2023', \n",
    "              'styczen_2024', 'luty_2024', 'marzec_2024', 'kwiecien_2024']\n",
    "\n",
    "srednia_df['srednia_gdansk_wlasnosc_prywatna'] = srednia_3('gdansk_wlasnosc_prywatna')\n",
    "srednia_df['srednia_krakow_wlasnosc_prywatna'] = srednia_3('krakow_wlasnosc_prywatna')\n",
    "srednia_df['srednia_poznan_wlasnosc_prywatna'] = srednia_3('poznan_wlasnosc_prywatna')\n",
    "srednia_df['srednia_warszawa_wlasnosc_prywatna'] = srednia_3('warszawa_wlasnosc_prywatna')\n",
    "srednia_df['srednia_wroclaw_wlasnosc_prywatna'] = srednia_3('wroclaw_wlasnosc_prywatna')\n",
    "\n",
    "srednia_df.head(10000)"
   ]
  }
 ],
 "metadata": {
  "kernelspec": {
   "display_name": "Python 3",
   "language": "python",
   "name": "python3"
  },
  "language_info": {
   "codemirror_mode": {
    "name": "ipython",
    "version": 3
   },
   "file_extension": ".py",
   "mimetype": "text/x-python",
   "name": "python",
   "nbconvert_exporter": "python",
   "pygments_lexer": "ipython3",
   "version": "3.12.6"
  }
 },
 "nbformat": 4,
 "nbformat_minor": 2
}
